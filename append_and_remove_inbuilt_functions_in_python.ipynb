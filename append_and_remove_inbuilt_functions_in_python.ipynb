{
  "nbformat": 4,
  "nbformat_minor": 0,
  "metadata": {
    "colab": {
      "name": "append and remove inbuilt functions in python",
      "provenance": [],
      "authorship_tag": "ABX9TyM8o0J5kHbhv9jKchVbqmVa",
      "include_colab_link": true
    },
    "kernelspec": {
      "name": "python3",
      "display_name": "Python 3"
    },
    "language_info": {
      "name": "python"
    }
  },
  "cells": [
    {
      "cell_type": "markdown",
      "metadata": {
        "id": "view-in-github",
        "colab_type": "text"
      },
      "source": [
        "<a href=\"https://colab.research.google.com/github/rituakuveeti/coding-stuff/blob/main/append_and_remove_inbuilt_functions_in_python.ipynb\" target=\"_parent\"><img src=\"https://colab.research.google.com/assets/colab-badge.svg\" alt=\"Open In Colab\"/></a>"
      ]
    },
    {
      "cell_type": "code",
      "metadata": {
        "colab": {
          "base_uri": "https://localhost:8080/"
        },
        "id": "hpxXLPavpO1F",
        "outputId": "e20cf341-023f-4c40-c8ea-d23651039b15"
      },
      "source": [
        "country=[\"india\",\"america\",\"africa\",\"australia\"]\n",
        "country.append(\"australia\")\n",
        "print(country)\n",
        "country.remove(\"america\")\n",
        "print(country)"
      ],
      "execution_count": 5,
      "outputs": [
        {
          "output_type": "stream",
          "text": [
            "['india', 'america', 'africa', 'australia', 'australia']\n",
            "['india', 'africa', 'australia', 'australia']\n"
          ],
          "name": "stdout"
        }
      ]
    },
    {
      "cell_type": "markdown",
      "metadata": {
        "id": "Gct11YzAqV2f"
      },
      "source": [
        "(a+b)/2*(a-b)"
      ]
    },
    {
      "cell_type": "code",
      "metadata": {
        "colab": {
          "base_uri": "https://localhost:8080/"
        },
        "id": "Pemukj7Yo6El",
        "outputId": "22961339-e792-47c5-cc51-b354b9c32f68"
      },
      "source": [
        "print(\"hello world\")\n",
        "print(\"hello ritu\")"
      ],
      "execution_count": 2,
      "outputs": [
        {
          "output_type": "stream",
          "text": [
            "hello world\n",
            "hello ritu\n"
          ],
          "name": "stdout"
        }
      ]
    }
  ]
}